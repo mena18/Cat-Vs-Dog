{
 "cells": [
  {
   "cell_type": "markdown",
   "metadata": {},
   "source": [
    "# My Version"
   ]
  },
  {
   "cell_type": "code",
   "execution_count": 1,
   "metadata": {},
   "outputs": [
    {
     "name": "stderr",
     "output_type": "stream",
     "text": [
      "Using TensorFlow backend.\n"
     ]
    },
    {
     "name": "stdout",
     "output_type": "stream",
     "text": [
      "['test1', 'train', 'sampleSubmission.csv']\n"
     ]
    }
   ],
   "source": [
    "import numpy as np # linear algebra\n",
    "import pandas as pd # data processing, CSV file I/O (e.g. pd.read_csv)\n",
    "import matplotlib.pyplot as plt\n",
    "import keras \n",
    "import cv2\n",
    "from keras.models import Sequential\n",
    "from keras.layers import Conv2D,MaxPooling2D,Dropout,Flatten, Dense\n",
    "\n",
    "import os\n",
    "print(os.listdir(\"../input\"))\n",
    "\n"
   ]
  },
  {
   "cell_type": "code",
   "execution_count": 2,
   "metadata": {},
   "outputs": [],
   "source": [
    "Train = os.listdir('../input/train/train')\n",
    "name=['Cat','Dog']\n",
    "lis = []\n",
    "for i in Train:\n",
    "    if i[0:3]=='cat':\n",
    "        lis.append(0)\n",
    "    else:\n",
    "        lis.append(1)\n",
    "\n",
    "labels_train = np.array(lis[0:20000])\n",
    "labels_val = np.array(lis[20000:])"
   ]
  },
  {
   "cell_type": "code",
   "execution_count": 3,
   "metadata": {},
   "outputs": [],
   "source": [
    "data_train = np.array([cv2.resize(cv2.imread('../input/train/train/'+i),(128,128))/255.0 for i in Train[0:20000] ],dtype=np.float32)\n",
    "data_valid = np.array([cv2.resize(cv2.imread('../input/train/train/'+i),(128,128))/255.0 for i in Train[20000:25000] ],dtype=np.float32)\n"
   ]
  },
  {
   "cell_type": "code",
   "execution_count": 4,
   "metadata": {},
   "outputs": [
    {
     "name": "stdout",
     "output_type": "stream",
     "text": [
      "WARNING:tensorflow:From /opt/conda/lib/python3.6/site-packages/tensorflow/python/framework/op_def_library.py:263: colocate_with (from tensorflow.python.framework.ops) is deprecated and will be removed in a future version.\n",
      "Instructions for updating:\n",
      "Colocations handled automatically by placer.\n",
      "WARNING:tensorflow:From /opt/conda/lib/python3.6/site-packages/keras/backend/tensorflow_backend.py:3445: calling dropout (from tensorflow.python.ops.nn_ops) with keep_prob is deprecated and will be removed in a future version.\n",
      "Instructions for updating:\n",
      "Please use `rate` instead of `keep_prob`. Rate should be set to `rate = 1 - keep_prob`.\n"
     ]
    }
   ],
   "source": [
    "from keras import layers\n",
    "from keras import models\n",
    "\n",
    "model = models.Sequential()\n",
    "model.add(layers.Conv2D(32, (3, 3), activation='relu',\n",
    "                        input_shape=(128, 128, 3)))\n",
    "model.add(layers.MaxPooling2D((2, 2)))\n",
    "model.add(layers.Conv2D(64, (3, 3), activation='relu'))\n",
    "model.add(layers.MaxPooling2D((2, 2)))\n",
    "model.add(layers.Conv2D(128, (3, 3), activation='relu'))\n",
    "model.add(layers.MaxPooling2D((2, 2)))\n",
    "model.add(layers.Conv2D(128, (3, 3), activation='relu'))\n",
    "model.add(layers.MaxPooling2D((2, 2)))\n",
    "model.add(layers.Flatten())\n",
    "model.add(layers.Dropout(0.5))\n",
    "model.add(layers.Dense(512, activation='relu'))\n",
    "model.add(layers.Dense(1, activation='sigmoid'))"
   ]
  },
  {
   "cell_type": "code",
   "execution_count": 5,
   "metadata": {},
   "outputs": [
    {
     "name": "stdout",
     "output_type": "stream",
     "text": [
      "_________________________________________________________________\n",
      "Layer (type)                 Output Shape              Param #   \n",
      "=================================================================\n",
      "conv2d_1 (Conv2D)            (None, 126, 126, 32)      896       \n",
      "_________________________________________________________________\n",
      "max_pooling2d_1 (MaxPooling2 (None, 63, 63, 32)        0         \n",
      "_________________________________________________________________\n",
      "conv2d_2 (Conv2D)            (None, 61, 61, 64)        18496     \n",
      "_________________________________________________________________\n",
      "max_pooling2d_2 (MaxPooling2 (None, 30, 30, 64)        0         \n",
      "_________________________________________________________________\n",
      "conv2d_3 (Conv2D)            (None, 28, 28, 128)       73856     \n",
      "_________________________________________________________________\n",
      "max_pooling2d_3 (MaxPooling2 (None, 14, 14, 128)       0         \n",
      "_________________________________________________________________\n",
      "conv2d_4 (Conv2D)            (None, 12, 12, 128)       147584    \n",
      "_________________________________________________________________\n",
      "max_pooling2d_4 (MaxPooling2 (None, 6, 6, 128)         0         \n",
      "_________________________________________________________________\n",
      "flatten_1 (Flatten)          (None, 4608)              0         \n",
      "_________________________________________________________________\n",
      "dropout_1 (Dropout)          (None, 4608)              0         \n",
      "_________________________________________________________________\n",
      "dense_1 (Dense)              (None, 512)               2359808   \n",
      "_________________________________________________________________\n",
      "dense_2 (Dense)              (None, 1)                 513       \n",
      "=================================================================\n",
      "Total params: 2,601,153\n",
      "Trainable params: 2,601,153\n",
      "Non-trainable params: 0\n",
      "_________________________________________________________________\n"
     ]
    }
   ],
   "source": [
    "model.summary()"
   ]
  },
  {
   "cell_type": "code",
   "execution_count": 6,
   "metadata": {},
   "outputs": [],
   "source": [
    "from keras import optimizers\n",
    "\n",
    "model.compile(loss='binary_crossentropy',\n",
    "              optimizer=optimizers.RMSprop(lr=1e-4),\n",
    "              metrics=['acc'])"
   ]
  },
  {
   "cell_type": "code",
   "execution_count": 7,
   "metadata": {},
   "outputs": [
    {
     "name": "stdout",
     "output_type": "stream",
     "text": [
      "WARNING:tensorflow:From /opt/conda/lib/python3.6/site-packages/tensorflow/python/ops/math_ops.py:3066: to_int32 (from tensorflow.python.ops.math_ops) is deprecated and will be removed in a future version.\n",
      "Instructions for updating:\n",
      "Use tf.cast instead.\n",
      "Train on 20000 samples, validate on 5000 samples\n",
      "Epoch 1/20\n",
      "20000/20000 [==============================] - 16s 818us/step - loss: 0.6242 - acc: 0.6400 - val_loss: 0.5292 - val_acc: 0.7444\n",
      "Epoch 2/20\n",
      "20000/20000 [==============================] - 14s 697us/step - loss: 0.5073 - acc: 0.7495 - val_loss: 0.5231 - val_acc: 0.7520\n",
      "Epoch 3/20\n",
      "20000/20000 [==============================] - 14s 695us/step - loss: 0.4467 - acc: 0.7909 - val_loss: 0.4361 - val_acc: 0.8020\n",
      "Epoch 4/20\n",
      "20000/20000 [==============================] - 14s 694us/step - loss: 0.4112 - acc: 0.8128 - val_loss: 0.4227 - val_acc: 0.8192\n",
      "Epoch 5/20\n",
      "20000/20000 [==============================] - 14s 692us/step - loss: 0.3774 - acc: 0.8308 - val_loss: 0.4084 - val_acc: 0.8264\n",
      "Epoch 6/20\n",
      "20000/20000 [==============================] - 14s 688us/step - loss: 0.3486 - acc: 0.8450 - val_loss: 0.4513 - val_acc: 0.7990\n",
      "Epoch 7/20\n",
      "20000/20000 [==============================] - 14s 690us/step - loss: 0.3279 - acc: 0.8597 - val_loss: 0.3453 - val_acc: 0.8562\n",
      "Epoch 8/20\n",
      "20000/20000 [==============================] - 14s 686us/step - loss: 0.3045 - acc: 0.8711 - val_loss: 0.3420 - val_acc: 0.8564\n",
      "Epoch 9/20\n",
      "20000/20000 [==============================] - 14s 693us/step - loss: 0.2863 - acc: 0.8770 - val_loss: 0.4225 - val_acc: 0.8208\n",
      "Epoch 10/20\n",
      "20000/20000 [==============================] - 14s 695us/step - loss: 0.2676 - acc: 0.8887 - val_loss: 0.3227 - val_acc: 0.8588\n",
      "Epoch 11/20\n",
      "20000/20000 [==============================] - 14s 687us/step - loss: 0.2497 - acc: 0.8963 - val_loss: 0.3326 - val_acc: 0.8602\n",
      "Epoch 12/20\n",
      "20000/20000 [==============================] - 14s 702us/step - loss: 0.2358 - acc: 0.9023 - val_loss: 0.5012 - val_acc: 0.8130\n",
      "Epoch 13/20\n",
      "20000/20000 [==============================] - 14s 683us/step - loss: 0.2257 - acc: 0.9088 - val_loss: 0.2833 - val_acc: 0.8824\n",
      "Epoch 14/20\n",
      "20000/20000 [==============================] - 14s 678us/step - loss: 0.2123 - acc: 0.9139 - val_loss: 0.3516 - val_acc: 0.8548\n",
      "Epoch 15/20\n",
      "20000/20000 [==============================] - 14s 677us/step - loss: 0.2007 - acc: 0.9170 - val_loss: 0.2930 - val_acc: 0.8846\n",
      "Epoch 16/20\n",
      "20000/20000 [==============================] - 14s 677us/step - loss: 0.1900 - acc: 0.9216 - val_loss: 0.3089 - val_acc: 0.8818\n",
      "Epoch 17/20\n",
      "20000/20000 [==============================] - 13s 671us/step - loss: 0.1806 - acc: 0.9276 - val_loss: 0.2728 - val_acc: 0.8970\n",
      "Epoch 18/20\n",
      "20000/20000 [==============================] - 14s 679us/step - loss: 0.1746 - acc: 0.9302 - val_loss: 0.2992 - val_acc: 0.8854\n",
      "Epoch 19/20\n",
      "20000/20000 [==============================] - 14s 676us/step - loss: 0.1625 - acc: 0.9363 - val_loss: 0.3280 - val_acc: 0.8840\n",
      "Epoch 20/20\n",
      "20000/20000 [==============================] - 14s 677us/step - loss: 0.1578 - acc: 0.9375 - val_loss: 0.4062 - val_acc: 0.8574\n"
     ]
    }
   ],
   "source": [
    "history = model.fit(data_train,labels_train,validation_data=(data_valid,labels_val),batch_size=15,epochs=20)"
   ]
  },
  {
   "cell_type": "code",
   "execution_count": 8,
   "metadata": {},
   "outputs": [],
   "source": [
    "his = history.history\n",
    "n = range(len(his['acc']))"
   ]
  },
  {
   "cell_type": "code",
   "execution_count": 9,
   "metadata": {},
   "outputs": [
    {
     "data": {
      "image/png": "[encoded data removed]",
      "text/plain": [
       "<Figure size 864x864 with 2 Axes>"
      ]
     },
     "metadata": {},
     "output_type": "display_data"
    }
   ],
   "source": [
    "fig,axs = plt.subplots(2,1,figsize=(12,12))\n",
    "axs[0].plot(n,his['loss'],color='r',label='Training Loss')\n",
    "axs[0].plot(n,his['val_loss'],color='b',label='Validation Loss')\n",
    "axs[0].legend(loc='best', shadow=True)\n",
    "\n",
    "axs[1].plot(n,his['acc'],color='r',label='Training Accuracy')\n",
    "axs[1].plot(n,his['val_acc'],color='b',label='Validation Accuracy')\n",
    "axs[1].legend(loc='best', shadow=True)\n",
    "\n",
    "\n",
    "plt.show()"
   ]
  },
  {
   "cell_type": "code",
   "execution_count": 10,
   "metadata": {},
   "outputs": [],
   "source": [
    "model.save_weights('model.h5')"
   ]
  },
  {
   "cell_type": "code",
   "execution_count": 11,
   "metadata": {},
   "outputs": [
    {
     "data": {
      "text/plain": [
       "0"
      ]
     },
     "execution_count": 11,
     "metadata": {},
     "output_type": "execute_result"
    }
   ],
   "source": [
    "import gc\n",
    "del data_train,data_valid\n",
    "gc.collect()"
   ]
  },
  {
   "cell_type": "code",
   "execution_count": 12,
   "metadata": {},
   "outputs": [],
   "source": [
    "Test = os.listdir('../input/test1/test1')\n",
    "Testing = np.array([cv2.resize(cv2.imread('../input/test1/test1/'+i),(128,128))/255.0 for i in Test ],dtype=np.float32)\n"
   ]
  },
  {
   "cell_type": "code",
   "execution_count": 13,
   "metadata": {},
   "outputs": [],
   "source": [
    "df = pd.read_csv('../input/sampleSubmission.csv')"
   ]
  },
  {
   "cell_type": "code",
   "execution_count": 14,
   "metadata": {},
   "outputs": [],
   "source": [
    "ev = model.predict(Testing)"
   ]
  },
  {
   "cell_type": "code",
   "execution_count": 15,
   "metadata": {},
   "outputs": [],
   "source": [
    "ev = ev.reshape(12500,)\n",
    "ev[ev>=0.5]=1\n",
    "ev[ev<0.5]=0"
   ]
  },
  {
   "cell_type": "code",
   "execution_count": 16,
   "metadata": {},
   "outputs": [],
   "source": [
    "df.label = ev"
   ]
  },
  {
   "cell_type": "code",
   "execution_count": 17,
   "metadata": {},
   "outputs": [
    {
     "data": {
      "text/html": [
       "<div>\n",
       "<style scoped>\n",
       "    .dataframe tbody tr th:only-of-type {\n",
       "        vertical-align: middle;\n",
       "    }\n",
       "\n",
       "    .dataframe tbody tr th {\n",
       "        vertical-align: top;\n",
       "    }\n",
       "\n",
       "    .dataframe thead th {\n",
       "        text-align: right;\n",
       "    }\n",
       "</style>\n",
       "<table border=\"1\" class=\"dataframe\">\n",
       "  <thead>\n",
       "    <tr style=\"text-align: right;\">\n",
       "      <th></th>\n",
       "      <th>id</th>\n",
       "      <th>label</th>\n",
       "    </tr>\n",
       "  </thead>\n",
       "  <tbody>\n",
       "    <tr>\n",
       "      <th>0</th>\n",
       "      <td>1</td>\n",
       "      <td>1.0</td>\n",
       "    </tr>\n",
       "    <tr>\n",
       "      <th>1</th>\n",
       "      <td>2</td>\n",
       "      <td>0.0</td>\n",
       "    </tr>\n",
       "    <tr>\n",
       "      <th>2</th>\n",
       "      <td>3</td>\n",
       "      <td>1.0</td>\n",
       "    </tr>\n",
       "    <tr>\n",
       "      <th>3</th>\n",
       "      <td>4</td>\n",
       "      <td>0.0</td>\n",
       "    </tr>\n",
       "    <tr>\n",
       "      <th>4</th>\n",
       "      <td>5</td>\n",
       "      <td>1.0</td>\n",
       "    </tr>\n",
       "  </tbody>\n",
       "</table>\n",
       "</div>"
      ],
      "text/plain": [
       "   id  label\n",
       "0   1    1.0\n",
       "1   2    0.0\n",
       "2   3    1.0\n",
       "3   4    0.0\n",
       "4   5    1.0"
      ]
     },
     "execution_count": 17,
     "metadata": {},
     "output_type": "execute_result"
    }
   ],
   "source": [
    "df.head()"
   ]
  },
  {
   "cell_type": "code",
   "execution_count": 18,
   "metadata": {},
   "outputs": [],
   "source": [
    "df.to_csv('submission.csv')"
   ]
  },
  {
   "cell_type": "code",
   "execution_count": 19,
   "metadata": {},
   "outputs": [],
   "source": []
  }
 ],
 "metadata": {
  "kernelspec": {
   "display_name": "Python 3",
   "language": "python",
   "name": "python3"
  },
  "language_info": {
   "codemirror_mode": {
    "name": "ipython",
    "version": 3
   },
   "file_extension": ".py",
   "mimetype": "text/x-python",
   "name": "python",
   "nbconvert_exporter": "python",
   "pygments_lexer": "ipython3",
   "version": "3.6.5"
  }
 },
 "nbformat": 4,
 "nbformat_minor": 1
}
